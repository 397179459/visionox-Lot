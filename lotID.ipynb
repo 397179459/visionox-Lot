{
 "cells": [
  {
   "cell_type": "code",
   "execution_count": null,
   "metadata": {},
   "outputs": [],
   "source": [
    "import pandas as pd\n",
    "import numpy as np\n",
    "import datetime"
   ]
  },
  {
   "cell_type": "markdown",
   "metadata": {
    "heading_collapsed": true
   },
   "source": [
    "## 要输入的地方是lotid，读取表格"
   ]
  },
  {
   "cell_type": "code",
   "execution_count": null,
   "metadata": {
    "hidden": true
   },
   "outputs": [],
   "source": [
    "L = 'L2E9221A9AA'\n",
    "dfm = pd.read_excel('./%s/M_%s.xls' % (L, L))\n",
    "dfcm = pd.read_excel('./%s/MC_%s.xls' % (L, L))\n",
    "dfo = pd.read_excel('./%s/O_%s.xls' % (L, L))\n",
    "print(dfm.shape)\n",
    "print(dfcm.shape)\n",
    "print(dfo.shape)"
   ]
  },
  {
   "cell_type": "markdown",
   "metadata": {},
   "source": [
    "# 全部的处理过程"
   ]
  },
  {
   "cell_type": "markdown",
   "metadata": {},
   "source": [
    "## 1.要注意有的Lot有到AUU的记录，有些没有，所以要稍作处理  \n",
    "## 2.目前我们canceltki也算作制程时间，所以处理过程更简单了"
   ]
  },
  {
   "cell_type": "code",
   "execution_count": null,
   "metadata": {},
   "outputs": [],
   "source": [
    "L = 'L2E9212A2AA'\n",
    "\n",
    "dfm = pd.read_excel('./%s/M_%s.xls' % (L, L))\n",
    "dfcm = pd.read_excel('./%s/MC_%s.xls' % (L, L))\n",
    "dfo = pd.read_excel('./%s/O_%s.xls' % (L, L))\n",
    "print(dfm.shape)\n",
    "print(dfcm.shape)\n",
    "print(dfo.shape)\n",
    "\n",
    "Lotid = dfm['LOTID'][0]\n",
    "\n",
    "# 有的LOT比较复杂，这里的开始时间要单独处理\n",
    "\n",
    "dfcm['TIME'] = pd.to_datetime(dfcm['TIME'])\n",
    "AUU_start = dfcm[(dfcm['DEST MACHINE'] == '2AUU01') & (dfcm['STATE'] == 'CREATED')]['TIME']\n",
    "print('%s 进入Array时间为 %s 。' % (Lotid ,AUU_start.iloc[0]))\n",
    "\n",
    "#####################################################################\n",
    "# 这个是对于没有到AUU记录的单独做的处理，直接选用dfm的第一条记录时间作为开始时间\n",
    "\n",
    "# dfm['TIME'] = pd.to_datetime(dfm['TIME'])\n",
    "# AUU_start = dfm.iloc[0][0]\n",
    "# print('%s 进入Array时间为 %s 。' % (Lotid ,AUU_start))\n",
    "\n",
    "\n",
    "dfm = dfm[['TIME', 'TRANSPORTJOBID', 'STATE']]     #只选取我们需要用到的三列'TIME', 'TRANSPORTJOBID', 'STATE'\n",
    "print('删除前 %s ' % len(dfm))\n",
    "l = dfm['TRANSPORTJOBID']\n",
    "dfmcount = pd.DataFrame([l.value_counts()]).T      # 统计每个TRANSPORTJOBID出现的次数\n",
    "list_one = dfmcount[dfmcount['TRANSPORTJOBID'] == 1].index.tolist()  # 如果出现次数是1，记录下来下一步准备删除\n",
    "print('准备删除 %s 条记录' % len(list_one))\n",
    "dfm=dfm[-dfm.TRANSPORTJOBID.isin(list_one)]         # 删除TRANSPORTJOBID是唯一的记录\n",
    "print('删除后 %s ' % len(dfm))\n",
    "\n",
    "# 上面是删除唯一的，这里是删除 3 个的情况，目前只遇到3个，如果大于三个下次再判断\n",
    "# 如果是3个，就删除掉重复的最后一条，可能是两个complete或者termination\n",
    "while True:\n",
    "    dfm_three = pd.DataFrame(dfm.TRANSPORTJOBID.value_counts())\n",
    "    if not dfm_three[dfm_three['TRANSPORTJOBID'] == 3].index.tolist():\n",
    "        print('没有3个的记录了，继续执行')\n",
    "        break \n",
    "    job_three = dfm_three[dfm_three['TRANSPORTJOBID'] == 3].index[0]\n",
    "    three_end = dfm[dfm['TRANSPORTJOBID'] == job_three].index[-1]\n",
    "    dfm = dfm[~dfm.index.isin([three_end])]\n",
    "    print('处理一个重复记录')\n",
    "\n",
    "\n",
    "dfm_time = pd.DataFrame()  # 新建一个表格用来处理搬送时间\n",
    "# 原表中‘STATE’是‘CREATED’的那些行的时间提取出来\n",
    "dfm_time['created'] = dfm[dfm['STATE'] == 'CREATED']['TIME'].tolist()\n",
    "# 原表中‘STATE’不是‘CREATED’（也就是‘COMPLETED’或者是‘TERMINATED’）的那些行的时间提取出来\n",
    "dfm_time['ended'] = dfm[dfm['STATE'] != 'CREATED']['TIME'].tolist()\n",
    "# 转换成时间格式，为下一步计算差值以及总时间做准备\n",
    "dfm_time = dfm_time.astype(np.datetime64)\n",
    "# 计算每次搬送的时间，并求和\n",
    "dfm_time['delta'] = dfm_time['ended'] - dfm_time['created']\n",
    "trantime = dfm_time['delta'].sum()\n",
    "print('搬送次数是：%s' % (len(dfm_time)+1))\n",
    "print('%s 在 Array 搬送总时间为： %s' % (Lotid, trantime))\n",
    "\n",
    "dfo = dfo[['EventTime', 'EventName', 'EQP ID']]                 # 只提取'EventTime', 'EventName'后续处理\n",
    "dfo['EventTime'] = pd.to_datetime(dfo['EventTime'])             # 转换时间戳，便于后面的计算\n",
    "shipidx = int(dfo[dfo['EventName'] == 'Ship'].index.values)\n",
    "dfo = dfo.iloc[shipidx:]\n",
    "ship_time = dfo[dfo['EventName'] == 'Ship']['EventTime']\n",
    "\n",
    "sumtime = (ship_time.iloc[0] - AUU_start.iloc[0])\n",
    "#############################################################################\n",
    "# sumtime = (ship_time.iloc[0] - AUU_start)\n",
    "\n",
    "print('%s 在 Array 总的时间为：%s ' % (Lotid, sumtime))\n",
    "\n",
    "\n",
    "###############################################################################\n",
    "# 这一块是之前处理canceltki的函数，现在不需要了，\n",
    "# dfo.index = range(len(dfo))\n",
    "# cancel = dfo[dfo['EventName'] == 'CancelTrackIn']\n",
    "# print('开始处理被cancel的trackin ')\n",
    "# print(cancel)\n",
    "# cancel_list = list(cancel.index)\n",
    "# cancel_tki_list = [x+1 for x in cancel_list]\n",
    "# dfo = dfo[~dfo.index.isin(cancel_tki_list)]\n",
    "# print('被cancel的trackin处理完毕')\n",
    "\n",
    "#################################################################################\n",
    "# 现在的做法是一个 tki 对应 一个tko 或者是 canceltki，实现思路等同于上面的处理搬送时间\n",
    "dfo = dfo[dfo['EventName'].isin(['TrackIn', 'TrackOut', 'CancelTrackIn'])]\n",
    "dfo_time = pd.DataFrame()\n",
    "dfo_time['tki'] = dfo[dfo['EventName'] == 'TrackIn']['EventTime'].tolist()\n",
    "print('trackin的次数为 %s' % len(dfo_time['tki']))\n",
    "dfo_time['tko'] = dfo[dfo['EventName'] != 'TrackIn']['EventTime'].tolist()\n",
    "print('trackout/canceltrackin的次数为 %s' % len(dfo_time['tko']))\n",
    "dfo_time = dfo_time.astype(np.datetime64)\n",
    "dfo_time['delta'] = dfo_time['tko'] - dfo_time['tki']\n",
    "runtime = dfo_time['delta'].sum()\n",
    "print('%s 在 Array 总的制程时间为：%s' % (Lotid, runtime))\n",
    "\n",
    "####################################################################################\n",
    "# 这是原来的处理\n",
    "# dfo_time = pd.DataFrame()\n",
    "# dfo_time['tki'] = dfo[dfo['EventName'] == 'TrackIn']['EventTime'].tolist()\n",
    "# dfo_time['tko'] = dfo[dfo['EventName'] == 'TrackOut']['EventTime'].tolist()\n",
    "# dfo_time = dfo_time.astype(np.datetime64)\n",
    "# dfo_time['delta'] = dfo_time['tko'] - dfo_time['tki']\n",
    "# runtime = dfo_time['delta'].sum()\n",
    "# print('%s 在 Array 总的制程时间为 ： %s' % (Lotid, runtime))\n",
    "\n",
    "waittime = (sumtime - trantime - runtime)\n",
    "print('%s 在 Array 总的等待时间为：% s' % (Lotid, waittime))"
   ]
  },
  {
   "cell_type": "markdown",
   "metadata": {},
   "source": [
    "## 下面格式输出，稍微美观一点"
   ]
  },
  {
   "cell_type": "code",
   "execution_count": null,
   "metadata": {},
   "outputs": [],
   "source": [
    "print('本批lot为： %s ' % Lotid)\n",
    "print('搬送次数是：%s' % (len(dfm_time)+1))\n",
    "for x in [sumtime, trantime, runtime, waittime]:\n",
    "    d = x.days\n",
    "    h = (x.seconds//3600) + d*24\n",
    "    m = (x.seconds//60)%60\n",
    "    s = x.seconds - ((x.seconds//3600))*3600 - ((x.seconds//60)%60)*60\n",
    "    print(x, \"          %s 小时 %s 分 %s 秒\" % (h, m, s))"
   ]
  },
  {
   "cell_type": "code",
   "execution_count": null,
   "metadata": {},
   "outputs": [],
   "source": [
    "# print('本批lot为： %s ' % Lotid)\n",
    "# print('搬送次数是：%s' % len(dfm_time))\n",
    "# print('%s 在 Array 总的时间为:       %s' % (Lotid, sumtime))\n",
    "# print('%s 在 Array 搬送总时间为:     %s' % (Lotid, trantime))\n",
    "# print('%s 在 Array 总的制程时间为:   %s' % (Lotid, runtime))\n",
    "# print('%s 在 Array 总的等待时间为:   %s' % (Lotid, waittime))"
   ]
  },
  {
   "cell_type": "markdown",
   "metadata": {},
   "source": [
    "## 输出到csv"
   ]
  },
  {
   "cell_type": "code",
   "execution_count": null,
   "metadata": {},
   "outputs": [],
   "source": [
    "df_lot = pd.DataFrame()\n",
    "df_lot['过程'] = ['%s 在 Array 总的时间为' % Lotid, '%s 在 Array 搬送总时间为' % Lotid, '%s 在 Array 总的制程时间为' % Lotid, '%s 在 Array 总的等待时间为' % Lotid]\n",
    "df_lot['时间'] = [sumtime, trantime, runtime, waittime]\n",
    "\n",
    "topath = './%s/res_%s.csv' % (L, L)\n",
    "df_lot.to_csv(topath, encoding='utf_8_sig', index=False)\n",
    "print('成功保存到res_%s.csv文件!' % Lotid)"
   ]
  },
  {
   "cell_type": "markdown",
   "metadata": {},
   "source": [
    "# 转换成秒，绘制饼图"
   ]
  },
  {
   "cell_type": "code",
   "execution_count": null,
   "metadata": {},
   "outputs": [],
   "source": [
    "s_runtime = runtime.total_seconds()\n",
    "s_trantime = trantime.total_seconds()\n",
    "s_waittime = waittime.total_seconds()\n",
    "# print(s_runtime, s_trantime, s_waittime)\n",
    "\n",
    "from pyecharts import Pie\n",
    "\n",
    "attr = [\"制程时间\", \"搬送时间\", \"等待时间\"]\n",
    "s_time = [s_runtime, s_trantime, s_waittime]\n",
    "pie = Pie(('%s在Array总时长%s' % (Lotid, sumtime)), width=900, height=500,  title_pos='left', title_text_size=21)\n",
    "pie.add(\"\", attr, s_time, \n",
    "        is_label_show=True,\n",
    "        radius=[45, 70], \n",
    "        legend_pos = 'right',\n",
    "        legend_orient = 'vertical',\n",
    "        label_text_size=19, legend_text_size=17)"
   ]
  },
  {
   "cell_type": "markdown",
   "metadata": {},
   "source": [
    "# 绘制在各个站点的runtime/ Notruntime"
   ]
  },
  {
   "cell_type": "code",
   "execution_count": null,
   "metadata": {},
   "outputs": [],
   "source": [
    "dfo_every = dfo.sort_values(['EventTime'])\n",
    "dfo_every = dfo_every.reset_index(drop=True)\n",
    "indexs = dfo_every[dfo_every['EventName'] == 'TrackIn']['EQP ID'].tolist()\n",
    "\n",
    "dfo_every_run = pd.DataFrame()\n",
    "dfo_every_run['tki'] = dfo_every[dfo_every['EventName'] == 'TrackIn']['EventTime'].tolist()\n",
    "dfo_every_run['tko'] = dfo_every[dfo_every['EventName'] != 'TrackIn']['EventTime'].tolist()\n",
    "dfo_every_run = dfo_every_run.astype(np.datetime64)\n",
    "dfo_every_run['rtime'] = dfo_every_run['tko'] - dfo_every_run['tki']\n",
    "r_time = list((dfo_every_run['rtime'].values).astype('timedelta64[m]'))\n",
    "\n",
    "dfo_every_nrun = dfo_every\n",
    "dfo_every_nrun = dfo_every_nrun.drop([0, len(dfo_every_nrun)-1])\n",
    "dfo_every_Nrun = pd.DataFrame()\n",
    "dfo_every_Nrun['tki'] = dfo_every_nrun[dfo_every_nrun['EventName'] == 'TrackIn']['EventTime'].tolist()\n",
    "dfo_every_Nrun['tko'] = dfo_every_nrun[dfo_every_nrun['EventName'] != 'TrackIn']['EventTime'].tolist()\n",
    "dfo_every_Nrun = dfo_every_Nrun.astype(np.datetime64)\n",
    "dfo_every_Nrun['nrtime'] = dfo_every_Nrun['tki'] - dfo_every_Nrun['tko']\n",
    "nr_time = list((dfo_every_Nrun['nrtime'].values).astype('timedelta64[m]'))\n",
    "nr_time.append(0)\n",
    "nr_time = [0-x for x in nr_time]\n",
    "\n",
    "from pyecharts import  Bar\n",
    "\n",
    "attr = indexs\n",
    "v1 = r_time\n",
    "v2 = nr_time\n",
    "\n",
    "bar = Bar(Lotid, width=1000, height=600)\n",
    "bar.add(\"runtime(单位：min)\", attr, v1,  \n",
    "        mark_line=['average'], \n",
    "        mark_point=[\"min\", 'max'], \n",
    "        is_more_utils=True, \n",
    "        xaxis_rotate=50,\n",
    "        is_datazoom_show=True,\n",
    "        datazoom_type='both',)\n",
    "bar.add(\"Not_runtime(单位：min)\", attr, v2,\n",
    "        mark_line=['average'], \n",
    "        mark_point=[\"min\", 'max'], )"
   ]
  },
  {
   "cell_type": "markdown",
   "metadata": {
    "heading_collapsed": true
   },
   "source": [
    "## 画各个shop的runtime图的分析步骤如下所示"
   ]
  },
  {
   "cell_type": "code",
   "execution_count": null,
   "metadata": {
    "hidden": true,
    "scrolled": true
   },
   "outputs": [],
   "source": [
    "dfo_every = dfo.sort_values(['EventTime'])\n",
    "dfo_every = dfo_every.reset_index(drop=True)\n",
    "dfo_every"
   ]
  },
  {
   "cell_type": "code",
   "execution_count": null,
   "metadata": {
    "hidden": true,
    "scrolled": true
   },
   "outputs": [],
   "source": [
    "indexs = dfo_every[dfo_every['EventName'] == 'TrackIn']['EQP ID'].tolist()\n",
    "print(len(indexs), indexs)"
   ]
  },
  {
   "cell_type": "code",
   "execution_count": null,
   "metadata": {
    "hidden": true,
    "scrolled": true
   },
   "outputs": [],
   "source": [
    "dfo_every_run = pd.DataFrame()\n",
    "dfo_every_run['tki'] = dfo_every[dfo_every['EventName'] == 'TrackIn']['EventTime'].tolist()\n",
    "dfo_every_run['tko'] = dfo_every[dfo_every['EventName'] != 'TrackIn']['EventTime'].tolist()\n",
    "dfo_every_run = dfo_every_run.astype(np.datetime64)\n",
    "dfo_every_run['rtime'] = dfo_every_run['tko'] - dfo_every_run['tki']\n",
    "dfo_every_run"
   ]
  },
  {
   "cell_type": "code",
   "execution_count": null,
   "metadata": {
    "hidden": true
   },
   "outputs": [],
   "source": [
    "r_time = list((dfo_every_run['rtime'].values).astype('timedelta64[m]'))\n",
    "r_time"
   ]
  },
  {
   "cell_type": "code",
   "execution_count": null,
   "metadata": {
    "hidden": true
   },
   "outputs": [],
   "source": []
  },
  {
   "cell_type": "code",
   "execution_count": null,
   "metadata": {
    "hidden": true,
    "scrolled": true
   },
   "outputs": [],
   "source": [
    "dfo_every_nrun = dfo_every\n",
    "dfo_every_nrun = dfo_every_nrun.drop([0, len(dfo_every_nrun)-1])\n",
    "dfo_every_nrun"
   ]
  },
  {
   "cell_type": "code",
   "execution_count": null,
   "metadata": {
    "hidden": true,
    "scrolled": true
   },
   "outputs": [],
   "source": [
    "dfo_every_Nrun = pd.DataFrame()\n",
    "dfo_every_Nrun['tki'] = dfo_every_nrun[dfo_every_nrun['EventName'] == 'TrackIn']['EventTime'].tolist()\n",
    "dfo_every_Nrun['tko'] = dfo_every_nrun[dfo_every_nrun['EventName'] != 'TrackIn']['EventTime'].tolist()\n",
    "dfo_every_Nrun = dfo_every_Nrun.astype(np.datetime64)\n",
    "dfo_every_Nrun['nrtime'] = dfo_every_Nrun['tki'] - dfo_every_Nrun['tko']\n",
    "dfo_every_Nrun"
   ]
  },
  {
   "cell_type": "code",
   "execution_count": null,
   "metadata": {
    "hidden": true
   },
   "outputs": [],
   "source": [
    "nr_time = [0-x for x in nr_time]"
   ]
  },
  {
   "cell_type": "code",
   "execution_count": null,
   "metadata": {
    "hidden": true
   },
   "outputs": [],
   "source": [
    "nr_time = list((dfo_every_Nrun['nrtime'].values).astype('timedelta64[m]'))\n",
    "nr_time.append(0)\n",
    "nr_time = [0-x for x in nr_time]"
   ]
  },
  {
   "cell_type": "code",
   "execution_count": null,
   "metadata": {
    "hidden": true
   },
   "outputs": [],
   "source": [
    "from pyecharts import  Bar\n",
    "\n",
    "attr = indexs\n",
    "v1 = r_time\n",
    "v2 = nr_time\n",
    "\n",
    "bar = Bar(Lotid, width=1000, height=600)\n",
    "bar.add(\"runtime(单位：min)\", attr, v1,  \n",
    "        mark_line=['average'], \n",
    "        mark_point=[\"average\"], \n",
    "        is_more_utils=True, \n",
    "        xaxis_rotate=50,\n",
    "        is_datazoom_show=True,\n",
    "        datazoom_type='both',)\n",
    "bar.add(\"Not_runtime(单位：min)\", attr, v2,)"
   ]
  }
 ],
 "metadata": {
  "kernelspec": {
   "display_name": "Python 3",
   "language": "python",
   "name": "python3"
  },
  "language_info": {
   "codemirror_mode": {
    "name": "ipython",
    "version": 3
   },
   "file_extension": ".py",
   "mimetype": "text/x-python",
   "name": "python",
   "nbconvert_exporter": "python",
   "pygments_lexer": "ipython3",
   "version": "3.7.1rc2"
  }
 },
 "nbformat": 4,
 "nbformat_minor": 2
}
