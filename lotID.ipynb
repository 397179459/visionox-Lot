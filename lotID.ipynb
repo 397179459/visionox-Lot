{
 "cells": [
  {
   "cell_type": "code",
   "execution_count": null,
   "metadata": {},
   "outputs": [],
   "source": [
    "import pandas as pd\n",
    "import numpy as np\n",
    "import datetime"
   ]
  },
  {
   "cell_type": "markdown",
   "metadata": {},
   "source": [
    "## 要输入的地方是lotid，读取表格，如果有 CancelTrackIn 的要读两遍"
   ]
  },
  {
   "cell_type": "code",
   "execution_count": null,
   "metadata": {},
   "outputs": [],
   "source": [
    "L = 'L2E9307A8AA'\n",
    "dfm = pd.read_excel('./%s/M_%s.xls' % (L, L))\n",
    "dfcm = pd.read_excel('./%s/MC_%s.xls' % (L, L))\n",
    "dfo = pd.read_excel('./%s/O_%s.xls' % (L, L))\n",
    "print(dfm.shape)\n",
    "print(dfcm.shape)\n",
    "print(dfo.shape)"
   ]
  },
  {
   "cell_type": "markdown",
   "metadata": {},
   "source": [
    "## 这一步是找到有没有canceltrackin，如果有要删掉对应的trackin才行,如果执行了删除操作，就需要再读取一遍文件，也就是再run上一个cell，观察dfo的行数有没有变化"
   ]
  },
  {
   "cell_type": "code",
   "execution_count": null,
   "metadata": {},
   "outputs": [],
   "source": [
    "dfo[dfo['EventName'] == 'CancelTrackIn']"
   ]
  },
  {
   "cell_type": "markdown",
   "metadata": {},
   "source": [
    "## 全部的处理过程"
   ]
  },
  {
   "cell_type": "code",
   "execution_count": null,
   "metadata": {},
   "outputs": [],
   "source": [
    "Lotid = dfm['LOTID'][0]\n",
    "\n",
    "dfcm['TIME'] = pd.to_datetime(dfcm['TIME'])\n",
    "AUU_start = dfcm[(dfcm['DEST MACHINE'] == '2AUU01') & (dfcm['STATE'] == 'CREATED')]['TIME']\n",
    "print('%s 进入Array时间为 %s 。' % (Lotid ,AUU_start.iloc[0]))\n",
    "\n",
    "dfm = dfm[['TIME', 'TRANSPORTJOBID', 'STATE']]  #只选取我们需要用到的三列'TIME', 'TRANSPORTJOBID', 'STATE'\n",
    "print(dfm.shape)\n",
    "l = dfm['TRANSPORTJOBID']\n",
    "dfmcount = pd.DataFrame([l.value_counts()]).T  # 统计每个TRANSPORTJOBID出现的次数\n",
    "list_one = dfmcount[dfmcount['TRANSPORTJOBID'] == 1].index.tolist()  # 如果出现次数是1，记录下来下一步准备删除\n",
    "print(len(list_one))\n",
    "dfm=dfm[-dfm.TRANSPORTJOBID.isin(list_one)]  # 删除TRANSPORTJOBID是唯一的记录\n",
    "print(dfm.shape)\n",
    "\n",
    "dfm_time = pd.DataFrame()  # 新建一个表格用来处理搬送时间\n",
    "# 原表中‘STATE’是‘CREATED’的那些行的时间提取出来\n",
    "dfm_time['created'] = dfm[dfm['STATE'] == 'CREATED']['TIME'].tolist()\n",
    "# 原表中‘STATE’不是‘CREATED’（也就是‘COMPLETED’或者是‘TERMINATED’）的那些行的时间提取出来\n",
    "dfm_time['ended'] = dfm[dfm['STATE'] != 'CREATED']['TIME'].tolist()\n",
    "# 转换成时间格式，为下一步计算差值以及总时间做准备\n",
    "dfm_time = dfm_time.astype(np.datetime64)\n",
    "# 计算每次搬送的时间，并求和\n",
    "dfm_time['delta'] = dfm_time['ended'] - dfm_time['created']\n",
    "trantime = dfm_time['delta'].sum()\n",
    "print('%s 在 Array 搬送总时间为： %s' % (Lotid, trantime))\n",
    "\n",
    "dfo = dfo[['EventTime', 'EventName', 'EQP ID']]                 # 只提取'EventTime', 'EventName'后续处理\n",
    "dfo['EventTime'] = pd.to_datetime(dfo['EventTime'])   # 转换时间戳，便于后面的计算\n",
    "shipidx = int(dfo[dfo['EventName'] == 'Ship'].index.values)\n",
    "dfo = dfo.iloc[shipidx:]\n",
    "ship_time = dfo[dfo['EventName'] == 'Ship']['EventTime']\n",
    "sumtime = (ship_time.iloc[0] - AUU_start.iloc[0])\n",
    "print('%s 在 Array 总的时间为：%s ' % (Lotid, sumtime))\n",
    "\n",
    "dfo_time = pd.DataFrame()\n",
    "dfo_time['tki'] = dfo[dfo['EventName'] == 'TrackIn']['EventTime'].tolist()\n",
    "dfo_time['tko'] = dfo[dfo['EventName'] == 'TrackOut']['EventTime'].tolist()\n",
    "dfo_time = dfo_time.astype(np.datetime64)\n",
    "dfo_time['delta'] = dfo_time['tko'] - dfo_time['tki']\n",
    "runtime = dfo_time['delta'].sum()\n",
    "print('%s 在 Array 总的制程时间为 ： %s' % (Lotid, runtime))\n",
    "\n",
    "dfo_time = pd.DataFrame()\n",
    "dfo_time['tki'] = dfo[dfo['EventName'] == 'TrackIn']['EventTime'].tolist()\n",
    "dfo_time['tko'] = dfo[dfo['EventName'] == 'TrackOut']['EventTime'].tolist()\n",
    "dfo_time = dfo_time.astype(np.datetime64)\n",
    "dfo_time['delta'] = dfo_time['tko'] - dfo_time['tki']\n",
    "runtime = dfo_time['delta'].sum()\n",
    "print('%s 在 Array 总的制程时间为 ： %s' % (Lotid, runtime))\n",
    "\n",
    "waittime = (sumtime - trantime - runtime)\n",
    "print('%s 在 Array 总的等待时间为：% s' % (Lotid, waittime))"
   ]
  },
  {
   "cell_type": "markdown",
   "metadata": {},
   "source": [
    "## 下面格式输出，稍微美观一点"
   ]
  },
  {
   "cell_type": "code",
   "execution_count": null,
   "metadata": {},
   "outputs": [],
   "source": [
    "print('本批lot为： %s ' % Lotid)\n",
    "print('%s 在 Array 总的时间为:       %s' % (Lotid, sumtime))\n",
    "print('%s 在 Array 搬送总时间为:     %s' % (Lotid, trantime))\n",
    "print('%s 在 Array 总的制程时间为:   %s' % (Lotid, runtime))\n",
    "print('%s 在 Array 总的等待时间为:   %s' % (Lotid, waittime))"
   ]
  },
  {
   "cell_type": "markdown",
   "metadata": {},
   "source": [
    "## 转换成秒，绘制饼图"
   ]
  },
  {
   "cell_type": "code",
   "execution_count": null,
   "metadata": {},
   "outputs": [],
   "source": [
    "s_runtime = runtime.total_seconds()\n",
    "s_trantime = trantime.total_seconds()\n",
    "s_waittime = waittime.total_seconds()\n",
    "# print(s_runtime, s_trantime, s_waittime)\n",
    "\n",
    "from pyecharts import Pie\n",
    "\n",
    "attr = [\"制程时间\", \"搬送时间\", \"等待时间\"]\n",
    "s_time = [s_runtime, s_trantime, s_waittime]\n",
    "pie = Pie(('%s在Array总时长%s' % (Lotid, sumtime)), width=900, height=500,  title_pos='center', title_text_size=21)\n",
    "pie.add(\"\", attr, s_time, \n",
    "        is_label_show=True,\n",
    "        radius=[45, 70], \n",
    "        legend_pos = 'right',\n",
    "        legend_orient = 'vertical',\n",
    "        label_text_size=19, legend_text_size=17)"
   ]
  }
 ],
 "metadata": {
  "kernelspec": {
   "display_name": "Python 3",
   "language": "python",
   "name": "python3"
  },
  "language_info": {
   "codemirror_mode": {
    "name": "ipython",
    "version": 3
   },
   "file_extension": ".py",
   "mimetype": "text/x-python",
   "name": "python",
   "nbconvert_exporter": "python",
   "pygments_lexer": "ipython3",
   "version": "3.7.1rc2"
  }
 },
 "nbformat": 4,
 "nbformat_minor": 2
}
