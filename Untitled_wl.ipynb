{
 "cells": [
  {
   "cell_type": "code",
   "execution_count": 1,
   "metadata": {},
   "outputs": [],
   "source": [
    "import pandas as pd\n",
    "import numpy as np\n",
    "import datetime"
   ]
  },
  {
   "cell_type": "code",
   "execution_count": null,
   "metadata": {},
   "outputs": [],
   "source": [
    "L = 'L2E9226A1AA'\n",
    "dfm = pd.read_excel('./%s/M_%s.xls' % (L, L))\n",
    "dfcm = pd.read_excel('./%s/MC_%s.xls' % (L, L))\n",
    "dfo = pd.read_excel('./%s/O_%s.xls' % (L, L))\n",
    "print(dfm.shape)\n",
    "print(dfcm.shape)\n",
    "print(dfo.shape)"
   ]
  },
  {
   "cell_type": "code",
   "execution_count": null,
   "metadata": {
    "scrolled": true
   },
   "outputs": [],
   "source": [
    "dfo.head()"
   ]
  },
  {
   "cell_type": "code",
   "execution_count": null,
   "metadata": {
    "scrolled": true
   },
   "outputs": [],
   "source": [
    "dfo = dfo[['EventTime', 'EventName', 'EQP ID']]                 # 只提取'EventTime', 'EventName'后续处理\n",
    "dfo['EventTime'] = pd.to_datetime(dfo['EventTime'])   # 转换时间戳，便于后面的计算\n",
    "shipidx = int(dfo[dfo['EventName'] == 'Ship'].index.values)\n",
    "dfo = dfo.iloc[shipidx:]\n",
    "dfo"
   ]
  },
  {
   "cell_type": "code",
   "execution_count": null,
   "metadata": {
    "scrolled": true
   },
   "outputs": [],
   "source": [
    "dfo = dfo[dfo['EventName'].isin(['TrackIn', 'TrackOut', 'CancelTrackIn'])]\n",
    "dfo.index = range(len(dfo))\n",
    "dfo"
   ]
  },
  {
   "cell_type": "code",
   "execution_count": null,
   "metadata": {},
   "outputs": [],
   "source": []
  },
  {
   "cell_type": "code",
   "execution_count": null,
   "metadata": {},
   "outputs": [],
   "source": []
  },
  {
   "cell_type": "markdown",
   "metadata": {},
   "source": [
    "## 这一步是找到有没有canceltrackin，如果有要删掉对应的trackin才行,如果执行了删除操作，就需要再读取一遍文件，也就是再run上一个cell"
   ]
  },
  {
   "cell_type": "code",
   "execution_count": null,
   "metadata": {},
   "outputs": [],
   "source": [
    "dfo = pd.read_excel(r'C:\\Users\\wanglei03\\Desktop\\test.xls')\n",
    "dfo"
   ]
  },
  {
   "cell_type": "code",
   "execution_count": null,
   "metadata": {},
   "outputs": [],
   "source": [
    "shipidx = int(dfo[dfo['EventName'] == 'Ship'].index.values)\n",
    "dfo = dfo.iloc[shipidx:]\n",
    "dfo"
   ]
  },
  {
   "cell_type": "code",
   "execution_count": null,
   "metadata": {},
   "outputs": [],
   "source": [
    "dfo = dfo[['EventTime', 'EventName', 'EQP ID']]                 # 只提取'EventTime', 'EventName'后续处理\n",
    "dfo['EventTime'] = pd.to_datetime(dfo['EventTime'])   # 转换时间戳，便于后面的计算\n",
    "dfo"
   ]
  },
  {
   "cell_type": "code",
   "execution_count": null,
   "metadata": {},
   "outputs": [],
   "source": []
  },
  {
   "cell_type": "code",
   "execution_count": null,
   "metadata": {},
   "outputs": [],
   "source": [
    "dfo.loc[227]"
   ]
  },
  {
   "cell_type": "code",
   "execution_count": null,
   "metadata": {},
   "outputs": [],
   "source": [
    "dfo.loc[547]"
   ]
  },
  {
   "cell_type": "code",
   "execution_count": null,
   "metadata": {},
   "outputs": [],
   "source": [
    "cancel = dfo[dfo['EventName'] == 'CancelTrackIn']\n",
    "cancel"
   ]
  },
  {
   "cell_type": "code",
   "execution_count": null,
   "metadata": {},
   "outputs": [],
   "source": [
    "cancel_list = list(cancel.index)\n",
    "cancel_tki_list = [x+1 for x in cancel_list]\n",
    "print(cancel_list)\n",
    "print(cancel_tki_list)"
   ]
  },
  {
   "cell_type": "code",
   "execution_count": null,
   "metadata": {
    "scrolled": true
   },
   "outputs": [],
   "source": [
    "dfo = dfo[~dfo.index.isin(cancel_tki_list)]\n",
    "dfo"
   ]
  },
  {
   "cell_type": "code",
   "execution_count": null,
   "metadata": {},
   "outputs": [],
   "source": [
    "dfo[dfo['EventName'] == 'CancelTrackIn']"
   ]
  },
  {
   "cell_type": "markdown",
   "metadata": {},
   "source": [
    "## 获取lotID "
   ]
  },
  {
   "cell_type": "code",
   "execution_count": null,
   "metadata": {
    "scrolled": true
   },
   "outputs": [],
   "source": [
    "\n",
    "Lotid = dfm['LOTID'][0]\n",
    "print('本批lot为： %s 。' % Lotid)"
   ]
  },
  {
   "cell_type": "markdown",
   "metadata": {},
   "source": [
    "## 计算开始时间 "
   ]
  },
  {
   "cell_type": "code",
   "execution_count": null,
   "metadata": {},
   "outputs": [],
   "source": [
    "\n",
    "dfcm['TIME'] = pd.to_datetime(dfcm['TIME'])\n",
    "AUU_start = dfcm[(dfcm['DEST MACHINE'] == '2AUU01') & (dfcm['STATE'] == 'CREATED')]['TIME']\n",
    "print('%s 进入Array时间为 %s 。' % (Lotid ,AUU_start.iloc[0]))"
   ]
  },
  {
   "cell_type": "markdown",
   "metadata": {},
   "source": [
    "# 计算transfertime"
   ]
  },
  {
   "cell_type": "code",
   "execution_count": null,
   "metadata": {
    "scrolled": true
   },
   "outputs": [],
   "source": [
    "dfm = dfm[['TIME', 'TRANSPORTJOBID', 'STATE']]  #只选取我们需要用到的三列'TIME', 'TRANSPORTJOBID', 'STATE'\n",
    "print(dfm.shape)\n",
    "dfm.head()"
   ]
  },
  {
   "cell_type": "markdown",
   "metadata": {},
   "source": [
    "## 删除TRANSPORTJOBID唯一的记录,这里用了几个计数的原因是查看是否唯一的值被成功删除掉"
   ]
  },
  {
   "cell_type": "code",
   "execution_count": null,
   "metadata": {
    "scrolled": true
   },
   "outputs": [],
   "source": [
    "dfmcount = pd.DataFrame([l.value_counts()]).T\n",
    "dfmcount"
   ]
  },
  {
   "cell_type": "code",
   "execution_count": null,
   "metadata": {},
   "outputs": [],
   "source": [
    "l = dfm['TRANSPORTJOBID']\n",
    "dfmcount = pd.DataFrame([l.value_counts()]).T  # 统计每个TRANSPORTJOBID出现的次数\n",
    "list_one = dfmcount[dfmcount['TRANSPORTJOBID'] == 1].index.tolist()  # 如果出现次数是1，记录下来下一步准备删除\n",
    "print(len(list_one))\n",
    "list_one"
   ]
  },
  {
   "cell_type": "code",
   "execution_count": null,
   "metadata": {
    "scrolled": true
   },
   "outputs": [],
   "source": [
    "dfm=dfm[-dfm.TRANSPORTJOBID.isin(list_one)]  # 删除TRANSPORTJOBID是唯一的记录\n",
    "print(dfm.shape)\n",
    "dfm"
   ]
  },
  {
   "cell_type": "code",
   "execution_count": null,
   "metadata": {
    "scrolled": true
   },
   "outputs": [],
   "source": [
    "dfm[dfm['STATE'] == 'TERMINATED'].shape"
   ]
  },
  {
   "cell_type": "code",
   "execution_count": null,
   "metadata": {
    "scrolled": true
   },
   "outputs": [],
   "source": [
    "dfm[dfm['STATE'] == 'COMPLETED'].shape"
   ]
  },
  {
   "cell_type": "code",
   "execution_count": null,
   "metadata": {
    "scrolled": true
   },
   "outputs": [],
   "source": [
    "dfm[dfm['STATE'] == 'CREATED']"
   ]
  },
  {
   "cell_type": "markdown",
   "metadata": {},
   "source": [
    "## 计算每次搬送的时间 求和即为总的搬送时间(这里没算上CST从STK15往AUU搬的时间，时间平均都在60S内，对总的来说微乎其微，所以舍去了) "
   ]
  },
  {
   "cell_type": "code",
   "execution_count": null,
   "metadata": {
    "scrolled": true
   },
   "outputs": [],
   "source": [
    "dfm_time = pd.DataFrame()  # 新建一个表格用来处理搬送时间\n",
    "# 原表中‘STATE’是‘CREATED’的那些行的时间提取出来\n",
    "dfm_time['created'] = dfm[dfm['STATE'] == 'CREATED']['TIME'].tolist()\n",
    "# 原表中‘STATE’不是‘CREATED’（也就是‘COMPLETED’或者是‘TERMINATED’）的那些行的时间提取出来\n",
    "dfm_time['ended'] = dfm[dfm['STATE'] != 'CREATED']['TIME'].tolist()\n",
    "# 转换成时间格式，为下一步计算差值以及总时间做准备\n",
    "dfm_time = dfm_time.astype(np.datetime64)\n",
    "# 计算每次搬送的时间，并求和\n",
    "dfm_time['delta'] = dfm_time['ended'] - dfm_time['created']\n",
    "trantime = dfm_time['delta'].sum()\n",
    "print('%s 在 Array 搬送总时间为： %s' % (Lotid, trantime))"
   ]
  },
  {
   "cell_type": "markdown",
   "metadata": {},
   "source": [
    "# 计算总时长，制程时间 "
   ]
  },
  {
   "cell_type": "code",
   "execution_count": null,
   "metadata": {
    "scrolled": true
   },
   "outputs": [],
   "source": [
    "\n",
    "dfo = dfo[['EventTime', 'EventName', 'EQP ID']]                 # 只提取'EventTime', 'EventName'后续处理\n",
    "dfo['EventTime'] = pd.to_datetime(dfo['EventTime'])   # 转换时间戳，便于后面的计算\n",
    "dfo"
   ]
  },
  {
   "cell_type": "markdown",
   "metadata": {},
   "source": [
    "##  确定 Ship 的时间，之后的TrackIn和TrackOut都不在Array，将之后的信息都剔除掉"
   ]
  },
  {
   "cell_type": "code",
   "execution_count": null,
   "metadata": {
    "scrolled": true
   },
   "outputs": [],
   "source": [
    "shipidx = int(dfo[dfo['EventName'] == 'Ship'].index.values)\n",
    "dfo = dfo.iloc[shipidx:]\n",
    "dfo"
   ]
  },
  {
   "cell_type": "markdown",
   "metadata": {},
   "source": [
    "## 先找到Ship的时间，再与之前创建往2AUU01搬送job的时间算差值，即为在Array的总时长"
   ]
  },
  {
   "cell_type": "code",
   "execution_count": null,
   "metadata": {},
   "outputs": [],
   "source": [
    "ship_time = dfo[dfo['EventName'] == 'Ship']['EventTime']\n",
    "sumtime = (ship_time.iloc[0] - AUU_start.iloc[0])\n",
    "print(' %s 在 Array 总的时间为：%s ' % (Lotid, sumtime))"
   ]
  },
  {
   "cell_type": "markdown",
   "metadata": {},
   "source": [
    "# 计算制程时间"
   ]
  },
  {
   "cell_type": "markdown",
   "metadata": {},
   "source": [
    "### 找到所有TrackIn的时间（只是为了防止出错，增加的验证步骤，不在代码中）"
   ]
  },
  {
   "cell_type": "code",
   "execution_count": null,
   "metadata": {
    "scrolled": true
   },
   "outputs": [],
   "source": [
    "dfo"
   ]
  },
  {
   "cell_type": "code",
   "execution_count": null,
   "metadata": {
    "scrolled": true
   },
   "outputs": [],
   "source": [
    "dftki = dfo[dfo['EventName'] == 'TrackIn']\n",
    "print(dftki.shape)\n",
    "dftki"
   ]
  },
  {
   "cell_type": "markdown",
   "metadata": {},
   "source": [
    "### 找到所有TrackOut的时间（只是为了防止出错，增加的验证步骤，不在代码中）"
   ]
  },
  {
   "cell_type": "code",
   "execution_count": null,
   "metadata": {
    "scrolled": true
   },
   "outputs": [],
   "source": [
    "dftho = dfo[(dfo['EventName'] == 'TrackOut')]\n",
    "print(dftho.shape)\n",
    "dftho"
   ]
  },
  {
   "cell_type": "markdown",
   "metadata": {},
   "source": [
    "### 这一步的思路和上面的统计transertime一样，TrackOut TrackIn求差值再求和"
   ]
  },
  {
   "cell_type": "code",
   "execution_count": null,
   "metadata": {},
   "outputs": [],
   "source": [
    "dfo_time = pd.DataFrame()\n",
    "dfo_time['tki'] = dfo[dfo['EventName'] == 'TrackIn']['EventTime'].tolist()\n",
    "dfo_time['tko'] = dfo[dfo['EventName'] == 'TrackOut']['EventTime'].tolist()\n",
    "dfo_time = dfo_time.astype(np.datetime64)\n",
    "dfo_time['delta'] = dfo_time['tko'] - dfo_time['tki']\n",
    "runtime = dfo_time['delta'].sum()\n",
    "print('%s 在 Array 总的制程时间为 ： %s' % (Lotid, runtime))\n",
    "dfo_time.shape"
   ]
  },
  {
   "cell_type": "code",
   "execution_count": null,
   "metadata": {},
   "outputs": [],
   "source": [
    "dfo_time = pd.DataFrame()\n",
    "dfo_time['tki'] = dfo[dfo['EventName'] == 'TrackIn']['EventTime'].tolist()\n",
    "dfo_time['tko'] = dfo[dfo['EventName'] == 'TrackOut']['EventTime'].tolist()\n",
    "dfo_time = dfo_time.astype(np.datetime64)\n",
    "dfo_time['delta'] = dfo_time['tko'] - dfo_time['tki']\n",
    "runtime = dfo_time['delta'].sum()\n",
    "print(' 在 Array 总的制程时间为 ： %s' % ( runtime))"
   ]
  },
  {
   "cell_type": "markdown",
   "metadata": {},
   "source": [
    "## 减法计算出waittime"
   ]
  },
  {
   "cell_type": "code",
   "execution_count": null,
   "metadata": {},
   "outputs": [],
   "source": [
    "waittime = (sumtime - trantime - runtime)\n",
    "print('%s 在 Array 总的等待时间为：% s' % (Lotid, waittime))"
   ]
  },
  {
   "cell_type": "code",
   "execution_count": null,
   "metadata": {},
   "outputs": [],
   "source": [
    "print('本批lot为： %s ' % Lotid)\n",
    "print('%s 在 Array 总的时间为:       %s' % (Lotid, sumtime))\n",
    "print('%s 在 Array 搬送总时间为:     %s' % (Lotid, trantime))\n",
    "print('%s 在 Array 总的制程时间为:   %s' % (Lotid, runtime))\n",
    "print('%s 在 Array 总的等待时间为:   %s' % (Lotid, waittime))"
   ]
  },
  {
   "cell_type": "markdown",
   "metadata": {},
   "source": [
    "# 转换数据后绘图"
   ]
  },
  {
   "cell_type": "markdown",
   "metadata": {},
   "source": [
    "## 把时间单位都转化成秒，便于绘图"
   ]
  },
  {
   "cell_type": "code",
   "execution_count": null,
   "metadata": {},
   "outputs": [],
   "source": [
    "s_runtime = runtime.total_seconds()\n",
    "s_trantime = trantime.total_seconds()\n",
    "s_waittime = waittime.total_seconds()\n",
    "print(s_runtime, s_trantime, s_waittime)"
   ]
  },
  {
   "cell_type": "code",
   "execution_count": null,
   "metadata": {},
   "outputs": [],
   "source": [
    "from pyecharts import Pie\n",
    "\n",
    "attr = [\"制程时间\", \"搬送时间\", \"等待时间\"]\n",
    "s_time = [s_runtime, s_trantime, s_waittime]\n",
    "pie = Pie(('%s在Array总时长%s' % (Lotid, sumtime)), width=900, height=500,  title_pos='center', title_text_size=21)\n",
    "pie.add(\"\", attr, s_time, \n",
    "        is_label_show=True,\n",
    "        radius=[45, 70], \n",
    "        legend_pos = 'right',\n",
    "        legend_orient = 'vertical',\n",
    "        label_text_size=19, legend_text_size=15)"
   ]
  },
  {
   "cell_type": "code",
   "execution_count": null,
   "metadata": {},
   "outputs": [],
   "source": []
  },
  {
   "cell_type": "code",
   "execution_count": null,
   "metadata": {
    "scrolled": true
   },
   "outputs": [],
   "source": [
    "df = dfo\n",
    "df = df[[ 'EventTime', 'EQP ID', 'EventName']]\n",
    "df"
   ]
  },
  {
   "cell_type": "code",
   "execution_count": null,
   "metadata": {
    "scrolled": true
   },
   "outputs": [],
   "source": [
    "ship_idx = int(df[df['EventName'] == 'Ship'].index.values)\n",
    "df = df.iloc[ship_idx:]\n",
    "df"
   ]
  },
  {
   "cell_type": "code",
   "execution_count": null,
   "metadata": {
    "scrolled": true
   },
   "outputs": [],
   "source": [
    "df_io = df[df.EventName.isin(['TrackIn', 'TrackOut'])]\n",
    "df_io = df_io.reset_index(drop=True)\n",
    "df_io"
   ]
  },
  {
   "cell_type": "code",
   "execution_count": null,
   "metadata": {
    "scrolled": true
   },
   "outputs": [],
   "source": [
    "df_ioo = df_io\n",
    "df_ioo = df_ioo.drop([0, 357])\n",
    "df_ioo"
   ]
  },
  {
   "cell_type": "code",
   "execution_count": null,
   "metadata": {},
   "outputs": [],
   "source": [
    "df_ootime = pd.DataFrame()\n",
    "df_ootime['tki'] = df_ioo[df_io['EventName'] == 'TrackIn']['EventTime'].tolist()\n",
    "df_ootime['tko'] = df_ioo[df_io['EventName'] == 'TrackOut']['EventTime'].tolist()\n",
    "df_ootime = df_ootime.astype(np.datetime64)\n",
    "df_ootime['Notruntime'] = df_ootime['tki'] - df_ootime['tko']\n",
    "nr_time = list((df_ootime['Notruntime'].values)/-60000000000)\n",
    "nr_time.reverse()"
   ]
  },
  {
   "cell_type": "code",
   "execution_count": null,
   "metadata": {},
   "outputs": [],
   "source": [
    "nr_time.append(0)"
   ]
  },
  {
   "cell_type": "code",
   "execution_count": null,
   "metadata": {},
   "outputs": [],
   "source": [
    "len(nr_time)"
   ]
  },
  {
   "cell_type": "code",
   "execution_count": null,
   "metadata": {},
   "outputs": [],
   "source": []
  },
  {
   "cell_type": "code",
   "execution_count": null,
   "metadata": {},
   "outputs": [],
   "source": []
  },
  {
   "cell_type": "code",
   "execution_count": null,
   "metadata": {},
   "outputs": [],
   "source": [
    "indexs = df_io[df_io['EventName'] == 'TrackIn']['EQP ID'].tolist()\n",
    "len(indexs)\n",
    "# indexs"
   ]
  },
  {
   "cell_type": "code",
   "execution_count": null,
   "metadata": {},
   "outputs": [],
   "source": [
    "indexs.reverse()\n",
    "indexs"
   ]
  },
  {
   "cell_type": "code",
   "execution_count": null,
   "metadata": {
    "scrolled": true
   },
   "outputs": [],
   "source": [
    "df_time = pd.DataFrame()\n",
    "df_time['tki'] = df_io[df_io['EventName'] == 'TrackIn']['EventTime'].tolist()\n",
    "df_time['tko'] = df_io[df_io['EventName'] == 'TrackOut']['EventTime'].tolist()\n",
    "df_time = df_time.astype(np.datetime64)\n",
    "df_time['runtime'] = df_time['tko'] - df_time['tki']\n",
    "# df_time.reindex(indexs)\n",
    "df_time"
   ]
  },
  {
   "cell_type": "code",
   "execution_count": null,
   "metadata": {
    "scrolled": true
   },
   "outputs": [],
   "source": [
    "r_time = list((df_time['runtime'].values)/60000000000)\n",
    "type(r_time)\n",
    "# len(r_time)"
   ]
  },
  {
   "cell_type": "code",
   "execution_count": null,
   "metadata": {},
   "outputs": [],
   "source": [
    "r_time.reverse()"
   ]
  },
  {
   "cell_type": "code",
   "execution_count": null,
   "metadata": {},
   "outputs": [],
   "source": [
    "r_time"
   ]
  },
  {
   "cell_type": "code",
   "execution_count": null,
   "metadata": {},
   "outputs": [],
   "source": [
    "from pyecharts import  Bar\n",
    "\n",
    "attr = indexs\n",
    "v1 = r_time\n",
    "v2 = nr_time\n",
    "bar = Bar(Lotid, width=1000, height=600)\n",
    "bar.add(\"runtime(单位：min)\", attr, v1,  \n",
    "        mark_line=['average'], \n",
    "        mark_point=[\"average\"], \n",
    "        is_more_utils=True, \n",
    "        xaxis_rotate=50,\n",
    "        is_datazoom_show=True,\n",
    "        datazoom_type='both',)\n",
    "bar.add(\"Not_runtime(单位：min)\", attr, v2,)"
   ]
  }
 ],
 "metadata": {
  "kernelspec": {
   "display_name": "Python 3",
   "language": "python",
   "name": "python3"
  },
  "language_info": {
   "codemirror_mode": {
    "name": "ipython",
    "version": 3
   },
   "file_extension": ".py",
   "mimetype": "text/x-python",
   "name": "python",
   "nbconvert_exporter": "python",
   "pygments_lexer": "ipython3",
   "version": "3.7.1rc2"
  }
 },
 "nbformat": 4,
 "nbformat_minor": 2
}
